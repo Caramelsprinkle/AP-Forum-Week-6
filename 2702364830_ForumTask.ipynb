{
 "cells": [
  {
   "cell_type": "markdown",
   "id": "ea2f35cf",
   "metadata": {},
   "source": [
    "**FORUM TASK 1**"
   ]
  },
  {
   "cell_type": "code",
   "execution_count": 5,
   "id": "5f313cbd",
   "metadata": {},
   "outputs": [],
   "source": [
    "lloyd = {\n",
    "    \"name\" : \"Lloyd\",\n",
    "    \"homework\" : [],\n",
    "    \"quizzes\" : [],\n",
    "    \"tests\" : []\n",
    "}\n",
    "\n",
    "\n",
    "\n",
    "alice = {\n",
    "    \"name\" : \"Alice\",\n",
    "    \"homework\" : [],\n",
    "    \"quizzes\" : [],\n",
    "    \"tests\" : []\n",
    "}\n",
    "\n",
    "tyler = {\n",
    "    \"name\" : \"Tyler\",\n",
    "    \"homework\" : [],\n",
    "    \"quizzes\" : [],\n",
    "    \"tests\" : []\n",
    "}\n",
    "\n",
    "lloyd = {\n",
    "\"name\": \"Lloyd\",\n",
    "\"homework\": [90.0,97.0,75.0,92.0],\n",
    "\"quizzes\": [88.0,40.0,94.0],\n",
    "\"tests\": [75.0,90.0]\n",
    "}\n",
    "alice = {\n",
    "\"name\": \"Alice\",\n",
    "\"homework\": [100.0, 92.0, 98.0, 100.0],\n",
    "\"quizzes\": [82.0, 83.0, 91.0],\n",
    "\"tests\": [89.0, 97.0]\n",
    "}\n",
    "tyler = {\n",
    "\"name\": \"Tyler\",\n",
    "\"homework\": [0.0, 87.0, 75.0, 22.0],\n",
    "\"quizzes\": [0.0, 75.0, 78.0],\n",
    "\"tests\": [100.0, 100.0]\n",
    "}"
   ]
  },
  {
   "cell_type": "code",
   "execution_count": 7,
   "id": "572a9c33",
   "metadata": {},
   "outputs": [
    {
     "name": "stdout",
     "output_type": "stream",
     "text": [
      "Lloyd\n",
      "[90.0, 97.0, 75.0, 92.0]\n",
      "[88.0, 40.0, 94.0]\n",
      "[75.0, 90.0]\n",
      "Alice\n",
      "[100.0, 92.0, 98.0, 100.0]\n",
      "[82.0, 83.0, 91.0]\n",
      "[89.0, 97.0]\n",
      "Tyler\n",
      "[0.0, 87.0, 75.0, 22.0]\n",
      "[0.0, 75.0, 78.0]\n",
      "[100.0, 100.0]\n"
     ]
    }
   ],
   "source": [
    "students = [lloyd, alice, tyler]\n",
    "\n",
    "for student in students:\n",
    "    print(student[\"name\"])\n",
    "    print(student[\"homework\"])\n",
    "    print(student[\"quizzes\"])\n",
    "    print(student[\"tests\"])"
   ]
  },
  {
   "cell_type": "code",
   "execution_count": 8,
   "id": "cf59d920",
   "metadata": {},
   "outputs": [],
   "source": [
    "# Takes a list of numbers\n",
    "# Returns the average\n",
    "def average(numbers):\n",
    "    total = sum(numbers)\n",
    "    total = float(total)\n",
    "    return total / len(numbers)"
   ]
  },
  {
   "cell_type": "code",
   "execution_count": 9,
   "id": "8750a74b",
   "metadata": {},
   "outputs": [],
   "source": [
    "# Takes a Student\n",
    "# Returns weighted average\n",
    "def get_average(student):\n",
    "    homework = average(student[\"homework\"])\n",
    "    quizzes = average(student[\"quizzes\"])\n",
    "    tests = average(student[\"tests\"])\n",
    "    return homework * 0.1 + quizzes * 0.3 + tests * 0.6"
   ]
  },
  {
   "cell_type": "code",
   "execution_count": 13,
   "id": "6533cecf",
   "metadata": {},
   "outputs": [
    {
     "name": "stdout",
     "output_type": "stream",
     "text": [
      "B\n"
     ]
    }
   ],
   "source": [
    "# Takes a 'score' (number)\n",
    "# Return a 'letter grade' (string)\n",
    "def get_letter_grade(score):\n",
    "    if score >= 90:\n",
    "        return \"A\"\n",
    "    elif score >= 80:\n",
    "        return \"B\"\n",
    "    elif score >= 70:\n",
    "        return \"C\"\n",
    "    elif score >= 60:\n",
    "        return \"D\"\n",
    "    else:\n",
    "        return \"F\"\n",
    "    \n",
    "print(get_letter_grade(get_average(lloyd)))"
   ]
  },
  {
   "cell_type": "code",
   "execution_count": 15,
   "id": "2f538617",
   "metadata": {},
   "outputs": [
    {
     "name": "stdout",
     "output_type": "stream",
     "text": [
      "83.86666666666666\n",
      "B\n"
     ]
    }
   ],
   "source": [
    "# Takes a listOfStudents\n",
    "# Return the 'class average' (number)\n",
    "def get_class_average(students):\n",
    "    results = []\n",
    "    for student in students:\n",
    "        results.append(get_average(student))\n",
    "    \n",
    "    return average(results)\n",
    "\n",
    "classAverage = get_class_average([lloyd, alice, tyler])\n",
    "print(classAverage)\n",
    "print(get_letter_grade(classAverage))"
   ]
  },
  {
   "cell_type": "markdown",
   "id": "90461f2c",
   "metadata": {},
   "source": [
    "**FORUM TASK 2**"
   ]
  },
  {
   "cell_type": "code",
   "execution_count": 16,
   "id": "c680a7c5",
   "metadata": {},
   "outputs": [],
   "source": [
    "tupleOfCourses = (\"COP 2510\",\n",
    "                 \"EGN 3000L\",\n",
    "                 \"MAC 2281\",\n",
    "                 \"MUH 3016\",\n",
    "                 \"PHY 2048\")\n",
    "courseName = {\n",
    "    \"COP 2510\"  : \"Programming Concepts\",\n",
    "    \"EGN 3000L\" : \"Foundations of Engineering Lab\",\n",
    "    \"MAC 2281\"  : \"Calculus 1\",\n",
    "    \"MUH 3016\"  : \"Survey of Jazz\",\n",
    "    \"PHY 2048\"  : \"General Physics 1\"\n",
    "}\n",
    "\n",
    "courseInstructor = {\n",
    "    \"COP 2510\"  : \"Z. Beasley\",\n",
    "    \"EGN 3000L\" : \"J. Anderson\",\n",
    "    \"MAC 2281\"  : \"A. Makaryus\",\n",
    "    \"MUH 3016\"  : \"A. Wilkins\",\n",
    "    \"PHY 2048\"  : \"G. Pradhan\"\n",
    "}\n",
    "\n",
    "courseSchedule = {\n",
    "    \"COP 2510\"  : \"MW 12:30pm – 1:45pm\",\n",
    "    \"EGN 3000L\" : \"TR 11:00am – 12:15pm\",\n",
    "    \"MAC 2281\"  : \"MW 9:30am – 10:45am\",\n",
    "    \"MUH 3016\"  : \"online asynchronous\",\n",
    "    \"PHY 2048\"  : \"TR 5:00pm – 6:15pm\"\n",
    "}"
   ]
  },
  {
   "cell_type": "code",
   "execution_count": 21,
   "id": "a5a5eff2",
   "metadata": {},
   "outputs": [],
   "source": [
    "# Takes a courseNumber (String)\n",
    "# Prints course details\n",
    "def FindInfoAboutCourse(courseNumber):\n",
    "    if courseNumber in tupleOfCourses:\n",
    "        name = courseName[courseNumber]\n",
    "        instructor = courseInstructor[courseNumber]\n",
    "        schedule = courseSchedule[courseNumber]\n",
    "        print(f\"The course details are:\\nCourse Name: {name}\\nInstructor: {instructor}\\nClass Times: {schedule}\")\n",
    "    else:\n",
    "        print(f\"{courseNumber} is an invalid course number.\")"
   ]
  },
  {
   "cell_type": "code",
   "execution_count": 22,
   "id": "21dffc1c",
   "metadata": {},
   "outputs": [
    {
     "name": "stdout",
     "output_type": "stream",
     "text": [
      "Enter a course number: COP 2510\n",
      "The course details are:\n",
      "Course Name: Programming Concepts\n",
      "Instructor: Z. Beasley\n",
      "Class Times: MW 12:30pm – 1:45pm\n"
     ]
    }
   ],
   "source": [
    "FindInfoAboutCourse(input(\"Enter a course number: \"))"
   ]
  },
  {
   "cell_type": "markdown",
   "id": "8891b99b",
   "metadata": {},
   "source": [
    "**FORUM TASK 3**"
   ]
  },
  {
   "cell_type": "code",
   "execution_count": 23,
   "id": "26fd4657",
   "metadata": {},
   "outputs": [],
   "source": [
    "daysOfTheWeek = (\"Monday\", \"Tuesday\", \"Wednesday\", \"Thursday\", \"Friday\", \"Saturday\", \"Sunday\")"
   ]
  },
  {
   "cell_type": "code",
   "execution_count": 32,
   "id": "426b8105",
   "metadata": {},
   "outputs": [
    {
     "name": "stdout",
     "output_type": "stream",
     "text": [
      "Enter the sales for Monday: 90.34\n",
      "Enter the sales for Tuesday: 23\n",
      "Enter the sales for Wednesday: 54.567\n",
      "Enter the sales for Thursday: 345.5433\n",
      "Enter the sales for Friday: 600.4556\n",
      "Enter the sales for Saturday: 35\n",
      "Enter the sales for Sunday: 70\n",
      "The total sales is: $1218.91\n",
      "The minimum sale amount was:$23.00 The maximum sale amount was:$600.46\n"
     ]
    }
   ],
   "source": [
    "import math\n",
    "\n",
    "# Asks user to input sales for each day of the week, then prints total sales, minimum sales, and maximum sales\n",
    "def ReportSales():\n",
    "    totalSales = 0\n",
    "    minimumSales = math.inf\n",
    "    maximumSales = 0\n",
    "    listOfSales = []\n",
    "\n",
    "    for day in daysOfTheWeek:\n",
    "        sales = eval(input(f\"Enter the sales for {day}: \"))\n",
    "        while not sales >= 0:\n",
    "            sales = eval(input(f\"Input was invalid. Re-enter the sales for {day}: \"))\n",
    "        \n",
    "        totalSales += sales\n",
    "        listOfSales.append(sales)\n",
    "    \n",
    "    maximumSales = max(listOfSales)\n",
    "    minimumSales = min(listOfSales)\n",
    "    \n",
    "    twoDecimalPointsFormat = \"{:.2f}\"\n",
    "    \n",
    "    print(f\"The total sales is: ${twoDecimalPointsFormat.format(totalSales)}\")\n",
    "    print(f\"The minimum sale amount was:${twoDecimalPointsFormat.format(minimumSales)} The maximum sale amount was:${twoDecimalPointsFormat.format(maximumSales)}\")\n",
    "    \n",
    "ReportSales()"
   ]
  },
  {
   "cell_type": "markdown",
   "id": "fb3c3259",
   "metadata": {},
   "source": [
    "**FORUM TASK 4**"
   ]
  },
  {
   "cell_type": "code",
   "execution_count": 39,
   "id": "44905566",
   "metadata": {},
   "outputs": [],
   "source": [
    "morseCode = (\" \", \"--..--\", \".-.-.-\", \"..--..\", # Space, Comma, Period, ?\n",
    "             \"-----\", \".----\", \"..---\", \"...--\", \"....-\", \".....\", \"-....\", \"--...\", \"---..\", \"----.\", # Numbers\n",
    "             \".-\", \"-...\", \"-.-.\", \"-..\", \".\", \"..-.\", \"--.\", \"....\", \"..\", \".--\", \"-.-\", \".-..\", \"--\", \"-.\", \"---\", # A - O\n",
    "             \".---.\", \"--.-\", \".-.\", \"...\", \"-\", \"..-\", \"...-\", \".--\", \"-..-\", \"-.--\", \"--..\") # P - Z\n",
    "\n",
    "morseChar = (\" \", \",\", \".\", \"?\",\n",
    "            \"0\", \"1\", \"2\", \"3\", \"4\", \"5\", \"6\", \"7\", \"8\", \"9\",\n",
    "            \"A\", \"B\", \"C\", \"D\", \"E\", \"F\", \"G\", \"H\", \"I\", \"J\", \"K\", \"L\", \"M\", \"N\", \"O\",\n",
    "            \"P\", \"Q\", \"R\", \"S\", \"T\", \"U\", \"V\", \"W\", \"X\", \"Y\", \"Z\")\n",
    "\n",
    "# Can't believe we're not using dictionaries"
   ]
  },
  {
   "cell_type": "code",
   "execution_count": 42,
   "id": "9001f501",
   "metadata": {},
   "outputs": [
    {
     "name": "stdout",
     "output_type": "stream",
     "text": [
      "Enter the string to be converted to Morse Code: If the answer was 42, then what was the question?\n",
      "....-. -..... .--.....--..-. .--.-... ....-..-----..-- -.....-. .--.....-- .--.-... -..... --.-..-....-..----...--..\n"
     ]
    }
   ],
   "source": [
    "# Takes a string\n",
    "# Returns Morse Code (String)\n",
    "def convertToMorseCode(string):\n",
    "    string = string.upper()\n",
    "    translatedMorseCode = \"\"\n",
    "    for char in string: # Can't believe we're not using match-case\n",
    "        if char == morseChar[0]:\n",
    "            translatedMorseCode += morseCode[0]\n",
    "        elif char == morseChar[1]:\n",
    "            translatedMorseCode += morseCode[1]\n",
    "        elif char == morseChar[2]:\n",
    "            translatedMorseCode += morseCode[2]\n",
    "        elif char == morseChar[3]:\n",
    "            translatedMorseCode += morseCode[3]\n",
    "        elif char == morseChar[4]:\n",
    "            translatedMorseCode += morseCode[4]\n",
    "        elif char == morseChar[5]:\n",
    "            translatedMorseCode += morseCode[5]\n",
    "        elif char == morseChar[6]:\n",
    "            translatedMorseCode += morseCode[6]\n",
    "        elif char == morseChar[7]:\n",
    "            translatedMorseCode += morseCode[7]\n",
    "        elif char == morseChar[8]:\n",
    "            translatedMorseCode += morseCode[8]\n",
    "        elif char == morseChar[8]:\n",
    "            translatedMorseCode += morseCode[8]\n",
    "        elif char == morseChar[9]:\n",
    "            translatedMorseCode += morseCode[9]\n",
    "        elif char == morseChar[10]:\n",
    "            translatedMorseCode += morseCode[10]\n",
    "        elif char == morseChar[11]:\n",
    "            translatedMorseCode += morseCode[11]\n",
    "        elif char == morseChar[12]:\n",
    "            translatedMorseCode += morseCode[12]\n",
    "        elif char == morseChar[13]:\n",
    "            translatedMorseCode += morseCode[13]\n",
    "        elif char == morseChar[14]:\n",
    "            translatedMorseCode += morseCode[14]\n",
    "        elif char == morseChar[15]:\n",
    "            translatedMorseCode += morseCode[15]\n",
    "        elif char == morseChar[16]:\n",
    "            translatedMorseCode += morseCode[16]\n",
    "        elif char == morseChar[17]:\n",
    "            translatedMorseCode += morseCode[17]\n",
    "        elif char == morseChar[18]:\n",
    "            translatedMorseCode += morseCode[18]\n",
    "        elif char == morseChar[19]:\n",
    "            translatedMorseCode += morseCode[19]\n",
    "        elif char == morseChar[20]:\n",
    "            translatedMorseCode += morseCode[20]\n",
    "        elif char == morseChar[21]:\n",
    "            translatedMorseCode += morseCode[21]\n",
    "        elif char == morseChar[22]:\n",
    "            translatedMorseCode += morseCode[22]\n",
    "        elif char == morseChar[23]:\n",
    "            translatedMorseCode += morseCode[23]\n",
    "        elif char == morseChar[24]:\n",
    "            translatedMorseCode += morseCode[24]\n",
    "        elif char == morseChar[25]:\n",
    "            translatedMorseCode += morseCode[25]\n",
    "        elif char == morseChar[26]:\n",
    "            translatedMorseCode += morseCode[26]\n",
    "        elif char == morseChar[27]:\n",
    "            translatedMorseCode += morseCode[27]\n",
    "        elif char == morseChar[28]:\n",
    "            translatedMorseCode += morseCode[28]\n",
    "        elif char == morseChar[29]:\n",
    "            translatedMorseCode += morseCode[29]\n",
    "        elif char == morseChar[30]:\n",
    "            translatedMorseCode += morseCode[30]\n",
    "        elif char == morseChar[31]:\n",
    "            translatedMorseCode += morseCode[31]\n",
    "        elif char == morseChar[32]:\n",
    "            translatedMorseCode += morseCode[32]\n",
    "        elif char == morseChar[33]:\n",
    "            translatedMorseCode += morseCode[33]\n",
    "        elif char == morseChar[34]:\n",
    "            translatedMorseCode += morseCode[34]\n",
    "        elif char == morseChar[35]:\n",
    "            translatedMorseCode += morseCode[35]\n",
    "        elif char == morseChar[36]:\n",
    "            translatedMorseCode += morseCode[36]\n",
    "        elif char == morseChar[37]:\n",
    "            translatedMorseCode += morseCode[37]\n",
    "        elif char == morseChar[38]:\n",
    "            translatedMorseCode += morseCode[38]\n",
    "        else:\n",
    "            translatedMorseCode += morseCode[39]\n",
    "    return translatedMorseCode\n",
    "print(convertToMorseCode(input(\"Enter the string to be converted to Morse Code: \")))"
   ]
  },
  {
   "cell_type": "code",
   "execution_count": 43,
   "id": "14bfe1a6",
   "metadata": {},
   "outputs": [
    {
     "name": "stdout",
     "output_type": "stream",
     "text": [
      "True\n"
     ]
    }
   ],
   "source": [
    "print(convertToMorseCode(\"If the answer was 42, then what was the question?\") == \n",
    "      \"....-. -..... .--.....--..-. .--.-... ....-..-----..-- -.....-. .--.....-- .--.-... -..... --.-..-....-..----...--..\")"
   ]
  }
 ],
 "metadata": {
  "kernelspec": {
   "display_name": "Python 3 (ipykernel)",
   "language": "python",
   "name": "python3"
  },
  "language_info": {
   "codemirror_mode": {
    "name": "ipython",
    "version": 3
   },
   "file_extension": ".py",
   "mimetype": "text/x-python",
   "name": "python",
   "nbconvert_exporter": "python",
   "pygments_lexer": "ipython3",
   "version": "3.11.4"
  }
 },
 "nbformat": 4,
 "nbformat_minor": 5
}
